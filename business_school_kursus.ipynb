{
 "cells": [
  {
   "cell_type": "markdown",
   "id": "859720ac-34ad-4c84-aecc-bac6958dabc0",
   "metadata": {},
   "source": [
    "# Python Workshop for cand.merc*"
   ]
  },
  {
   "cell_type": "markdown",
   "id": "d4e105a7-9379-4663-afab-fdfd216ec1ff",
   "metadata": {},
   "source": [
    "Introduktion til brug af notebooks og python. Pandas dokumentationen kan findes her: https://pandas.pydata.org/pandas-docs/stable/reference/\n",
    "Liste over regneoperatorer i python kan ses [her](https://www.w3schools.com/python/python_operators.asp)\n"
   ]
  },
  {
   "cell_type": "code",
   "execution_count": null,
   "id": "a5202d76-8b13-4afd-b286-6d6eba182b52",
   "metadata": {},
   "outputs": [],
   "source": [
    "import warnings\n",
    "warnings.filterwarnings('ignore')"
   ]
  },
  {
   "cell_type": "code",
   "execution_count": null,
   "id": "3621d0b6-42c4-4f44-a08b-ca29f372ecac",
   "metadata": {},
   "outputs": [],
   "source": [
    "import pandas as pd"
   ]
  },
  {
   "cell_type": "markdown",
   "id": "7df7d7d5-9063-48f7-a340-2c2d8e7c3f2a",
   "metadata": {},
   "source": [
    "# Del 1"
   ]
  },
  {
   "cell_type": "markdown",
   "id": "d9ca0051-b8bd-4add-a845-53928156f63b",
   "metadata": {},
   "source": [
    "## Filnavne for datasættene"
   ]
  },
  {
   "cell_type": "code",
   "execution_count": null,
   "id": "d878ef34-f572-46d8-b0a6-687be07cf994",
   "metadata": {},
   "outputs": [],
   "source": [
    "data1 = 'fake_da_regnskab.csv'\n",
    "data2 = 'fake_us_da_regnskab.csv' \n",
    "data3 = 'fake_us_regnskab.csv'"
   ]
  },
  {
   "cell_type": "markdown",
   "id": "00484e44-98aa-4d27-acb0-41f96e38bd46",
   "metadata": {},
   "source": [
    "### Indlæs i pandas\n"
   ]
  },
  {
   "cell_type": "code",
   "execution_count": null,
   "id": "002a718c-6bc8-41f5-b868-c32fcad602ce",
   "metadata": {},
   "outputs": [],
   "source": [
    "df1 = pd.read_csv(data1, index_col='id')\n",
    "df1.head()"
   ]
  },
  {
   "cell_type": "markdown",
   "id": "d786a711-e33f-49f0-8856-05a9c5f90e09",
   "metadata": {},
   "source": [
    "Optælling af rækker:"
   ]
  },
  {
   "cell_type": "code",
   "execution_count": null,
   "id": "e2b279cb-1b59-41e5-8583-ccfd33635573",
   "metadata": {},
   "outputs": [],
   "source": [
    "df1.count()"
   ]
  },
  {
   "cell_type": "markdown",
   "id": "adbfdb80-cc93-41a2-a984-b6d055908670",
   "metadata": {
    "jp-MarkdownHeadingCollapsed": true
   },
   "source": [
    "#### Hvordan er datatyperne?"
   ]
  },
  {
   "cell_type": "code",
   "execution_count": null,
   "id": "2b6c6647-aff6-45d6-be88-38230c910b3e",
   "metadata": {},
   "outputs": [],
   "source": [
    "df1.dtypes"
   ]
  },
  {
   "cell_type": "markdown",
   "id": "8515adff-64f3-448e-9835-ad4dee8532c9",
   "metadata": {},
   "source": [
    "Objects er \"alt\", så kan udmiddelbart fint holde text, men problematisk for tid. Derfor konverteres de:"
   ]
  },
  {
   "cell_type": "code",
   "execution_count": null,
   "id": "be4af6e4-350d-4650-8f11-a1842f6272a3",
   "metadata": {},
   "outputs": [],
   "source": [
    "df1['dato'] = pd.to_datetime(df1['dato'])"
   ]
  },
  {
   "cell_type": "code",
   "execution_count": null,
   "id": "74d06fde-87d4-46f2-ba6d-43023eeca80e",
   "metadata": {},
   "outputs": [],
   "source": [
    "df1.dtypes"
   ]
  },
  {
   "cell_type": "markdown",
   "id": "21cb1344-957d-4f03-b271-cc0f95837b48",
   "metadata": {},
   "source": [
    "### Indlæs data2"
   ]
  },
  {
   "cell_type": "code",
   "execution_count": null,
   "id": "e5f20e05-fc83-4662-b6ff-debf1b6d6d05",
   "metadata": {},
   "outputs": [],
   "source": [
    "df2 = pd.read_csv(data2, index_col='id')\n",
    "df2['dato'] = pd.to_datetime(df2['dato'])"
   ]
  },
  {
   "cell_type": "code",
   "execution_count": null,
   "id": "3ad5b293-bf9b-4176-95e6-cbd9eadd7e82",
   "metadata": {},
   "outputs": [],
   "source": [
    "df2.head()"
   ]
  },
  {
   "cell_type": "code",
   "execution_count": null,
   "id": "85843e53-9689-4b84-85a0-91f1532f092c",
   "metadata": {},
   "outputs": [],
   "source": [
    "df2.dtypes"
   ]
  },
  {
   "cell_type": "markdown",
   "id": "b342e250-ed2e-4b70-89b3-7d49557d8b2b",
   "metadata": {},
   "source": [
    "## To datasæt skal smeltes sammen til eet."
   ]
  },
  {
   "cell_type": "markdown",
   "id": "85956fa4-61b9-49dc-8918-0c7d9effa83e",
   "metadata": {},
   "source": [
    "df1 og df2 skal ensrettes, men hvordan?"
   ]
  },
  {
   "cell_type": "markdown",
   "id": "a7bb2368-0b27-4344-ac66-e135d8142c0f",
   "metadata": {},
   "source": [
    "### Samling af 2 dataframes"
   ]
  },
  {
   "cell_type": "markdown",
   "id": "8af58127-d7fd-4f2f-be17-c8239cb42db7",
   "metadata": {},
   "source": [
    "Dagens valutakurs:"
   ]
  },
  {
   "cell_type": "code",
   "execution_count": null,
   "id": "5a52a4e7-03b8-47a8-ae4b-66a442de28b1",
   "metadata": {},
   "outputs": [],
   "source": [
    "dagens_kurs_dk_us = 6.5"
   ]
  },
  {
   "cell_type": "code",
   "execution_count": null,
   "id": "36111206-ef24-409e-ba41-f91393851f92",
   "metadata": {},
   "outputs": [],
   "source": [
    "df2['omkostning ($)'] * dagens_kurs_dk_us"
   ]
  },
  {
   "cell_type": "markdown",
   "id": "63c0f8f3-46ad-4779-b04a-7137a97f1962",
   "metadata": {},
   "source": [
    "**Huske at gemme beregningen i Dataframen:**"
   ]
  },
  {
   "cell_type": "code",
   "execution_count": null,
   "id": "b65e2f53-2a9a-4b12-8f03-eca899e87272",
   "metadata": {},
   "outputs": [],
   "source": [
    "df2.head()"
   ]
  },
  {
   "cell_type": "code",
   "execution_count": null,
   "id": "7190bc9b-1799-4a92-a84b-ed40a05466ef",
   "metadata": {},
   "outputs": [],
   "source": [
    "df2['omkostning (kr)'] = df2['omkostning ($)'] * dagens_kurs_dk_us"
   ]
  },
  {
   "cell_type": "code",
   "execution_count": null,
   "id": "e42be244-0137-45c5-aa36-b58e001455ce",
   "metadata": {},
   "outputs": [],
   "source": [
    "df2.head()"
   ]
  },
  {
   "cell_type": "code",
   "execution_count": null,
   "id": "7ae1ce1d-6a45-4006-b74d-d92bcdd3b70f",
   "metadata": {},
   "outputs": [],
   "source": [
    "df2 = df2.drop('omkostning ($)', axis=1)"
   ]
  },
  {
   "cell_type": "code",
   "execution_count": null,
   "id": "afe1f0ec-2689-4961-a676-6aa30ac5277b",
   "metadata": {},
   "outputs": [],
   "source": [
    "df2.head()"
   ]
  },
  {
   "cell_type": "markdown",
   "id": "4b914123-f94f-41c7-b3a7-300d532e35ef",
   "metadata": {},
   "source": [
    "### Samling af dataframes"
   ]
  },
  {
   "cell_type": "markdown",
   "id": "e3680a3a-8224-44a3-b00f-9ae80dbb6592",
   "metadata": {},
   "source": [
    "Merging (Samling) af dataframes, sker ved at oprette en ny ved hjælp af metoden pd.concat()"
   ]
  },
  {
   "cell_type": "code",
   "execution_count": null,
   "id": "a8485c5a-2bfe-4cab-aa2e-fb9fe492c12b",
   "metadata": {},
   "outputs": [],
   "source": [
    "df = pd.concat([df1,df2])"
   ]
  },
  {
   "cell_type": "code",
   "execution_count": null,
   "id": "24ac23bc-8f83-4cb0-9371-08f00be9fb11",
   "metadata": {},
   "outputs": [],
   "source": [
    "df.info()"
   ]
  },
  {
   "cell_type": "markdown",
   "id": "6496b346-6382-4c99-9199-1070860c6057",
   "metadata": {},
   "source": [
    "### Udvælge enkelte kolloner"
   ]
  },
  {
   "cell_type": "markdown",
   "id": "c664d965-22d3-47b5-92c2-0a2d0396e6bb",
   "metadata": {},
   "source": [
    "Hvordan kan jeg nøjes med at få enkelte kolloner ud, f.eks. kun Navn og Omkostning (kr)"
   ]
  },
  {
   "cell_type": "code",
   "execution_count": null,
   "id": "bbe0d73b-41fc-47c2-9bd0-bd7059b6fc78",
   "metadata": {},
   "outputs": [],
   "source": [
    "df[['medarbejder', 'omkostning (kr)']].head()"
   ]
  },
  {
   "cell_type": "markdown",
   "id": "069612e5-d8bf-418a-a003-94648405952a",
   "metadata": {},
   "source": [
    "### Hvem har solgt for mest?"
   ]
  },
  {
   "cell_type": "code",
   "execution_count": null,
   "id": "19d3aa8a-30af-4b3d-88c9-bd0f52215f63",
   "metadata": {},
   "outputs": [],
   "source": [
    "df[['medarbejder', 'omkostning (kr)']].max()"
   ]
  },
  {
   "cell_type": "raw",
   "id": "d9259e30-977d-4bcc-970b-473396375d97",
   "metadata": {},
   "source": [
    "Men er dette et korrekt svar? Vi laver en forespørgsel på "
   ]
  },
  {
   "cell_type": "code",
   "execution_count": null,
   "id": "163ab0a0-e748-4a01-9ac6-eed2183597e9",
   "metadata": {},
   "outputs": [],
   "source": [
    "df.loc[df['omkostning (kr)'] == 93152.93]"
   ]
  },
  {
   "cell_type": "markdown",
   "id": "b3936b7a-71ce-462f-9341-0c1661bca358",
   "metadata": {},
   "source": [
    "Det var jo ikke den korrekte medarbejder!"
   ]
  },
  {
   "cell_type": "raw",
   "id": "c8eb8535-34f9-45c7-becb-ca73da61204a",
   "metadata": {},
   "source": [
    "Vi sorterer vores dataframe og gemmer i variablen df"
   ]
  },
  {
   "cell_type": "code",
   "execution_count": null,
   "id": "b70f2c9e-0217-4c5e-8119-4f306a4c3e65",
   "metadata": {},
   "outputs": [],
   "source": [
    "df = df.sort_values(by='omkostning (kr)', ascending=True)"
   ]
  },
  {
   "cell_type": "code",
   "execution_count": null,
   "id": "8f4a0646-390d-4fc4-9a42-a8725f49f1a2",
   "metadata": {
    "scrolled": true
   },
   "outputs": [],
   "source": [
    "df.head()"
   ]
  },
  {
   "cell_type": "code",
   "execution_count": null,
   "id": "8ebe1982-5100-4ad1-b76b-7358f40f2557",
   "metadata": {
    "scrolled": true
   },
   "outputs": [],
   "source": [
    "df.tail()"
   ]
  },
  {
   "cell_type": "markdown",
   "id": "9b458ef7-11da-4d0c-bdba-971deaee473f",
   "metadata": {},
   "source": [
    "Men vi kan også få resultatet direkte ved at spørge på den enkelte række og i python tæller vi fra 0 til -1 :-)"
   ]
  },
  {
   "cell_type": "code",
   "execution_count": null,
   "id": "bb86d9db-b5a2-48c2-bb81-c36f87aea2fb",
   "metadata": {},
   "outputs": [],
   "source": [
    "df.iloc[-1]"
   ]
  },
  {
   "cell_type": "markdown",
   "id": "00fa9096-e8a2-4bb1-87b7-b68dae4f7ff0",
   "metadata": {
    "jp-MarkdownHeadingCollapsed": true
   },
   "source": [
    "# Del 2"
   ]
  },
  {
   "cell_type": "markdown",
   "id": "291ba1d0-7f7d-4e79-9ed2-e135bda23469",
   "metadata": {},
   "source": [
    "Der er nu kommet endnu et datasæt. Nu skal der konverteres til $ i stedet for kr. og der skal findes medarbejderen med mindste salg."
   ]
  },
  {
   "cell_type": "code",
   "execution_count": null,
   "id": "7689981f-5c98-44b0-a44d-cb4ac67f3f30",
   "metadata": {},
   "outputs": [],
   "source": [
    "df3 = pd.read_csv(data3, index_col='id')\n",
    "df3['dato'] = pd.to_datetime(df3['dato'])"
   ]
  },
  {
   "cell_type": "code",
   "execution_count": null,
   "id": "64191b6e-e07e-4097-9761-43800348da61",
   "metadata": {},
   "outputs": [],
   "source": [
    "df3.head()"
   ]
  },
  {
   "cell_type": "markdown",
   "id": "f7653ec0-308a-427e-b143-740f1a593849",
   "metadata": {},
   "source": [
    "Opgave: Samle df3 med df1 og df2, hvor der arbejdes i USD istedet for kr."
   ]
  },
  {
   "cell_type": "code",
   "execution_count": null,
   "id": "7377fac9-c6a6-4120-90c2-15799ef2eb42",
   "metadata": {},
   "outputs": [],
   "source": []
  },
  {
   "cell_type": "code",
   "execution_count": null,
   "id": "d7712591-a3ad-437f-8cd1-0ac1c62ec6a6",
   "metadata": {},
   "outputs": [],
   "source": []
  },
  {
   "cell_type": "code",
   "execution_count": null,
   "id": "2fd8b0ab-9750-4ff5-a929-f4500351adc8",
   "metadata": {},
   "outputs": [],
   "source": []
  },
  {
   "cell_type": "code",
   "execution_count": null,
   "id": "737d1878-fd6a-4e56-976c-af4ea1d84970",
   "metadata": {},
   "outputs": [],
   "source": []
  },
  {
   "cell_type": "code",
   "execution_count": null,
   "id": "432ee557-1486-4113-9bdc-fd3a31e73d70",
   "metadata": {},
   "outputs": [],
   "source": []
  },
  {
   "cell_type": "markdown",
   "id": "e68b109a-ed09-48d5-b0c2-df2a525ecc9c",
   "metadata": {
    "jp-MarkdownHeadingCollapsed": true
   },
   "source": [
    "# Del 3\n"
   ]
  },
  {
   "cell_type": "markdown",
   "id": "7d906f53-93f1-4c80-a367-7c34fdeaeda0",
   "metadata": {},
   "source": [
    "## Visualisering af vores datasæt df"
   ]
  },
  {
   "cell_type": "markdown",
   "id": "ffcf512f-51f7-42d0-8f84-b7f015239bc7",
   "metadata": {},
   "source": [
    "[DOCUMENTATION](https://pandas.pydata.org/pandas-docs/stable/reference/api/pandas.DataFrame.plot.html) her et eksempel på et scatterplot på dato og omkostningen i (kr)"
   ]
  },
  {
   "cell_type": "code",
   "execution_count": null,
   "id": "0ddfc8cb-3d39-433a-b751-5d6d7f2ea44e",
   "metadata": {},
   "outputs": [],
   "source": [
    "import matplotlib.pyplot as plt"
   ]
  },
  {
   "cell_type": "code",
   "execution_count": null,
   "id": "143e2d3e-1fc0-4a98-af08-f902afea48c7",
   "metadata": {},
   "outputs": [],
   "source": [
    "df.plot(x='dato', y='omkostning (kr)', kind='scatter')"
   ]
  },
  {
   "cell_type": "markdown",
   "id": "5a319841-e8ba-453d-aebc-e382e48e825a",
   "metadata": {},
   "source": [
    "## Virksomheden er opkøbt, vi skal have lavet en sundhedsprofil"
   ]
  },
  {
   "cell_type": "markdown",
   "id": "5475b4c5-a39a-43f6-8d27-2bd413db982e",
   "metadata": {},
   "source": [
    "Indlæs datasæt4"
   ]
  },
  {
   "cell_type": "code",
   "execution_count": null,
   "id": "7f03f04a-4d1e-465f-8e56-bd6132f55aff",
   "metadata": {},
   "outputs": [],
   "source": [
    "data4 = 'fake_people.csv'"
   ]
  },
  {
   "cell_type": "code",
   "execution_count": null,
   "id": "9b285d31-53b4-422b-93cd-f7b67b246c71",
   "metadata": {},
   "outputs": [],
   "source": [
    "df4 = pd.read_csv(data4, index_col='id')"
   ]
  },
  {
   "cell_type": "code",
   "execution_count": null,
   "id": "c931bc88-07cd-436d-905f-1470edcaa24d",
   "metadata": {},
   "outputs": [],
   "source": []
  },
  {
   "cell_type": "code",
   "execution_count": null,
   "id": "a7288a69-79aa-4776-9111-5fafccf2a55c",
   "metadata": {},
   "outputs": [],
   "source": [
    "df4.plot(x='medarbejder', y='sko',  kind='bar')"
   ]
  },
  {
   "cell_type": "markdown",
   "id": "f7853595-d116-4a75-b58a-bbd85eab7bcb",
   "metadata": {},
   "source": [
    "**Bedre metode:** Find hvem og hvilken værdi der er forkert"
   ]
  },
  {
   "cell_type": "code",
   "execution_count": null,
   "id": "b2f20e87-721a-462d-8500-8b9afd72bddf",
   "metadata": {},
   "outputs": [],
   "source": [
    "df4.describe()"
   ]
  },
  {
   "cell_type": "code",
   "execution_count": null,
   "id": "55d2fefa-d521-4b9d-a8c9-5f56ec179f09",
   "metadata": {},
   "outputs": [],
   "source": [
    "df4[df4['sko'] < 30 ]"
   ]
  },
  {
   "cell_type": "code",
   "execution_count": null,
   "id": "d23870ab-b806-48bc-892e-85578756db82",
   "metadata": {},
   "outputs": [],
   "source": [
    "df4.loc[9, 'sko'] = 41.5"
   ]
  },
  {
   "cell_type": "code",
   "execution_count": null,
   "id": "04112271-4423-4e10-b7cc-ffa3d7d39ee3",
   "metadata": {},
   "outputs": [],
   "source": [
    "df4.plot(x='medarbejder', y='sko')"
   ]
  },
  {
   "cell_type": "code",
   "execution_count": null,
   "id": "152252be-d216-42fc-88ec-e087698492de",
   "metadata": {},
   "outputs": [],
   "source": [
    "df4 = df4.dropna()"
   ]
  },
  {
   "cell_type": "code",
   "execution_count": null,
   "id": "fe2d2ae7-b7d3-4468-8a87-bf073476dd18",
   "metadata": {},
   "outputs": [],
   "source": [
    "df4.plot(x='medarbejder', y='sko')"
   ]
  },
  {
   "cell_type": "code",
   "execution_count": null,
   "id": "994123aa-f5b5-480e-8f83-726b4135995b",
   "metadata": {},
   "outputs": [],
   "source": [
    "df4 = df4.dropna(subset=['sko'])"
   ]
  },
  {
   "cell_type": "code",
   "execution_count": null,
   "id": "be0ebfdc-5b34-4edb-a3f8-488bd4df8d20",
   "metadata": {},
   "outputs": [],
   "source": [
    "df4.plot(x='medarbejder', y='sko', kind='bar')"
   ]
  },
  {
   "cell_type": "code",
   "execution_count": null,
   "id": "0938e3fe-47bb-40a6-9b35-7fad1f85612c",
   "metadata": {},
   "outputs": [],
   "source": [
    "# DER SKAL SLETTES HERUNDER; DETTE ER MIN EGEN LØSNING!"
   ]
  },
  {
   "cell_type": "markdown",
   "id": "c219b206-9aba-4fe1-b3b1-da4685a413e0",
   "metadata": {
    "jp-MarkdownHeadingCollapsed": true
   },
   "source": [
    "### Undersøg datasættet, hvilke variable er der."
   ]
  },
  {
   "cell_type": "code",
   "execution_count": null,
   "id": "d058424d-5105-4e3c-9526-afff7d3d5962",
   "metadata": {},
   "outputs": [],
   "source": [
    "df4.head()"
   ]
  },
  {
   "cell_type": "markdown",
   "id": "cd45c795-c1cf-444e-94a8-6e87e4b4a88a",
   "metadata": {},
   "source": [
    "Udregn bmi = vægt / højde^2, hvordan ser det ud?"
   ]
  },
  {
   "cell_type": "code",
   "execution_count": null,
   "id": "aa750349-1a4b-4a9a-b320-e200ce3bbac1",
   "metadata": {},
   "outputs": [],
   "source": []
  },
  {
   "cell_type": "code",
   "execution_count": null,
   "id": "74ceec8d-9848-4979-992d-7df21d748c23",
   "metadata": {},
   "outputs": [],
   "source": []
  },
  {
   "cell_type": "code",
   "execution_count": null,
   "id": "e0573196-4aaf-44d9-a036-4a4c015ae949",
   "metadata": {},
   "outputs": [],
   "source": []
  },
  {
   "cell_type": "code",
   "execution_count": null,
   "id": "ab499eb8-4e20-41be-9289-3169c34de145",
   "metadata": {},
   "outputs": [],
   "source": []
  },
  {
   "cell_type": "code",
   "execution_count": null,
   "id": "025ce631-7015-4c89-957f-ee14b2d790c6",
   "metadata": {},
   "outputs": [],
   "source": []
  },
  {
   "cell_type": "code",
   "execution_count": null,
   "id": "171dabe7-d4d7-4d14-bc18-7db5e8d706ff",
   "metadata": {},
   "outputs": [],
   "source": []
  },
  {
   "cell_type": "code",
   "execution_count": null,
   "id": "87f5ecf3-6746-4e64-9d8b-9bd0e661de27",
   "metadata": {},
   "outputs": [],
   "source": []
  },
  {
   "cell_type": "code",
   "execution_count": null,
   "id": "8ebbc307-46ee-4330-8843-509f242036b2",
   "metadata": {},
   "outputs": [],
   "source": []
  },
  {
   "cell_type": "code",
   "execution_count": null,
   "id": "9cae4c49-26d6-40e2-8643-1feef373c927",
   "metadata": {},
   "outputs": [],
   "source": []
  },
  {
   "cell_type": "code",
   "execution_count": null,
   "id": "41a0b2bd-d920-48cd-a5b3-4c33d9ef31db",
   "metadata": {},
   "outputs": [],
   "source": []
  },
  {
   "cell_type": "code",
   "execution_count": null,
   "id": "d231d6e5-a8d1-4c08-ba51-b6c8e9d73817",
   "metadata": {},
   "outputs": [],
   "source": []
  },
  {
   "cell_type": "markdown",
   "id": "968488e0-383c-4064-944e-fd6113268636",
   "metadata": {},
   "source": [
    "# Xtra"
   ]
  },
  {
   "cell_type": "markdown",
   "id": "0a920aac-3e31-4a5b-bd14-e0fcbdaa9a90",
   "metadata": {},
   "source": [
    "Datatyper kan betyde meget, fx. når vi ønsker at bruge datoerne, som angivelse af tid og ikke bare en repræsentation."
   ]
  },
  {
   "cell_type": "code",
   "execution_count": null,
   "id": "b2015ea5-1180-4b10-ad6b-8401df91cae0",
   "metadata": {},
   "outputs": [],
   "source": [
    "df.dtypes"
   ]
  },
  {
   "cell_type": "markdown",
   "id": "f37bafa6-7769-498e-94b4-03832f4a2a3d",
   "metadata": {},
   "source": [
    "Datatyperne er ikke i overensstemmelse med hvad vi kan se. \"Object\" er en type, der kan holde nærmest alt. \n",
    "Så vi ændrer dem til mere korrekte. Dette gør vi i en dictionary, som kaldes et key:value store. \n",
    "For at pandas kan finde ud af konvertere dato kollonen til et datoformat, skal den først laves til en string"
   ]
  },
  {
   "cell_type": "code",
   "execution_count": null,
   "id": "086cd9e9-7954-4944-93fc-9804a103e282",
   "metadata": {},
   "outputs": [],
   "source": [
    "korrekte_data_typer = {'id': int, 'dato': pd.StringDtype(), 'beskrivelse': pd.StringDtype(), 'omkostning (kr)': float, 'medarbejder':\n",
    "                       pd.StringDtype(), 'hoejde': int}\n",
    "dato_felter = ['dato']"
   ]
  },
  {
   "cell_type": "code",
   "execution_count": null,
   "id": "c6e46fea-cf04-4ee9-90ec-f2a39c953af2",
   "metadata": {},
   "outputs": [],
   "source": [
    "df1 = pd.read_csv(data1, dtype=korrekte_data_typer, parse_dates=dato_felter)\n",
    "df1.dtypes"
   ]
  }
 ],
 "metadata": {
  "kernelspec": {
   "display_name": "Python 3 (ipykernel)",
   "language": "python",
   "name": "python3"
  },
  "language_info": {
   "codemirror_mode": {
    "name": "ipython",
    "version": 3
   },
   "file_extension": ".py",
   "mimetype": "text/x-python",
   "name": "python",
   "nbconvert_exporter": "python",
   "pygments_lexer": "ipython3",
   "version": "3.11.5"
  }
 },
 "nbformat": 4,
 "nbformat_minor": 5
}
