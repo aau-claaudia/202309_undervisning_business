{
 "cells": [
  {
   "cell_type": "markdown",
   "id": "859720ac-34ad-4c84-aecc-bac6958dabc0",
   "metadata": {},
   "source": [
    "# Python Workshop for cand.merc*"
   ]
  },
  {
   "cell_type": "markdown",
   "id": "d4e105a7-9379-4663-afab-fdfd216ec1ff",
   "metadata": {},
   "source": [
    "Introduktion til brug af notebooks og python. Pandas dokumentationen kan findes her: https://pandas.pydata.org/pandas-docs/stable/reference/\n",
    "Liste over regneoperatorer i python kan ses [her](https://www.w3schools.com/python/python_operators.asp)\n"
   ]
  },
  {
   "cell_type": "code",
   "execution_count": 1,
   "id": "a5202d76-8b13-4afd-b286-6d6eba182b52",
   "metadata": {},
   "outputs": [],
   "source": [
    "import warnings\n",
    "warnings.filterwarnings('ignore')"
   ]
  },
  {
   "cell_type": "code",
   "execution_count": 2,
   "id": "3621d0b6-42c4-4f44-a08b-ca29f372ecac",
   "metadata": {},
   "outputs": [],
   "source": [
    "import pandas as pd"
   ]
  },
  {
   "cell_type": "markdown",
   "id": "7df7d7d5-9063-48f7-a340-2c2d8e7c3f2a",
   "metadata": {},
   "source": [
    "# Del 1"
   ]
  },
  {
   "cell_type": "markdown",
   "id": "d9ca0051-b8bd-4add-a845-53928156f63b",
   "metadata": {},
   "source": [
    "## Filnavne for datasættene"
   ]
  },
  {
   "cell_type": "code",
   "execution_count": 3,
   "id": "d878ef34-f572-46d8-b0a6-687be07cf994",
   "metadata": {},
   "outputs": [],
   "source": [
    "data1 = 'fake_da_regnskab.csv'\n",
    "data2 = 'fake_us_da_regnskab.csv' \n",
    "data3 = 'fake_us_regnskab.csv'"
   ]
  },
  {
   "cell_type": "markdown",
   "id": "00484e44-98aa-4d27-acb0-41f96e38bd46",
   "metadata": {},
   "source": [
    "### Indlæs i pandas\n"
   ]
  },
  {
   "cell_type": "code",
   "execution_count": 4,
   "id": "002a718c-6bc8-41f5-b868-c32fcad602ce",
   "metadata": {},
   "outputs": [
    {
     "data": {
      "text/html": [
       "<div>\n",
       "<style scoped>\n",
       "    .dataframe tbody tr th:only-of-type {\n",
       "        vertical-align: middle;\n",
       "    }\n",
       "\n",
       "    .dataframe tbody tr th {\n",
       "        vertical-align: top;\n",
       "    }\n",
       "\n",
       "    .dataframe thead th {\n",
       "        text-align: right;\n",
       "    }\n",
       "</style>\n",
       "<table border=\"1\" class=\"dataframe\">\n",
       "  <thead>\n",
       "    <tr style=\"text-align: right;\">\n",
       "      <th></th>\n",
       "      <th>dato</th>\n",
       "      <th>beskrivelse</th>\n",
       "      <th>omkostning (kr)</th>\n",
       "      <th>medarbejder</th>\n",
       "    </tr>\n",
       "    <tr>\n",
       "      <th>id</th>\n",
       "      <th></th>\n",
       "      <th></th>\n",
       "      <th></th>\n",
       "      <th></th>\n",
       "    </tr>\n",
       "  </thead>\n",
       "  <tbody>\n",
       "    <tr>\n",
       "      <th>100</th>\n",
       "      <td>2023-03-29</td>\n",
       "      <td>Reagere vend godt tilbage.</td>\n",
       "      <td>25055.65</td>\n",
       "      <td>Bo Laursen</td>\n",
       "    </tr>\n",
       "    <tr>\n",
       "      <th>101</th>\n",
       "      <td>2023-07-18</td>\n",
       "      <td>Vagt transportør voldsom.</td>\n",
       "      <td>80706.36</td>\n",
       "      <td>Univ.Prof. Hjalte Kristensen</td>\n",
       "    </tr>\n",
       "    <tr>\n",
       "      <th>102</th>\n",
       "      <td>2022-10-25</td>\n",
       "      <td>Konto konstant aldrig.</td>\n",
       "      <td>60634.79</td>\n",
       "      <td>Hr Bjarne Thomsen</td>\n",
       "    </tr>\n",
       "    <tr>\n",
       "      <th>103</th>\n",
       "      <td>2022-12-24</td>\n",
       "      <td>Brev trykke synes svare.</td>\n",
       "      <td>30714.93</td>\n",
       "      <td>Winnie Jepsen</td>\n",
       "    </tr>\n",
       "    <tr>\n",
       "      <th>104</th>\n",
       "      <td>2023-04-11</td>\n",
       "      <td>Barn stil glemme tegne.</td>\n",
       "      <td>24081.46</td>\n",
       "      <td>Winnie Jepsen</td>\n",
       "    </tr>\n",
       "  </tbody>\n",
       "</table>\n",
       "</div>"
      ],
      "text/plain": [
       "           dato                 beskrivelse  omkostning (kr)  \\\n",
       "id                                                             \n",
       "100  2023-03-29  Reagere vend godt tilbage.         25055.65   \n",
       "101  2023-07-18   Vagt transportør voldsom.         80706.36   \n",
       "102  2022-10-25      Konto konstant aldrig.         60634.79   \n",
       "103  2022-12-24    Brev trykke synes svare.         30714.93   \n",
       "104  2023-04-11     Barn stil glemme tegne.         24081.46   \n",
       "\n",
       "                      medarbejder  \n",
       "id                                 \n",
       "100                    Bo Laursen  \n",
       "101  Univ.Prof. Hjalte Kristensen  \n",
       "102             Hr Bjarne Thomsen  \n",
       "103                 Winnie Jepsen  \n",
       "104                 Winnie Jepsen  "
      ]
     },
     "execution_count": 4,
     "metadata": {},
     "output_type": "execute_result"
    }
   ],
   "source": [
    "df1 = pd.read_csv(data1, index_col='id')\n",
    "df1.head()"
   ]
  },
  {
   "cell_type": "markdown",
   "id": "d786a711-e33f-49f0-8856-05a9c5f90e09",
   "metadata": {},
   "source": [
    "Optælling af rækker:"
   ]
  },
  {
   "cell_type": "code",
   "execution_count": 5,
   "id": "e2b279cb-1b59-41e5-8583-ccfd33635573",
   "metadata": {},
   "outputs": [
    {
     "data": {
      "text/plain": [
       "dato               20\n",
       "beskrivelse        20\n",
       "omkostning (kr)    20\n",
       "medarbejder        20\n",
       "dtype: int64"
      ]
     },
     "execution_count": 5,
     "metadata": {},
     "output_type": "execute_result"
    }
   ],
   "source": [
    "df1.count()"
   ]
  },
  {
   "cell_type": "markdown",
   "id": "adbfdb80-cc93-41a2-a984-b6d055908670",
   "metadata": {
    "jp-MarkdownHeadingCollapsed": true
   },
   "source": [
    "#### Hvordan er datatyperne?"
   ]
  },
  {
   "cell_type": "code",
   "execution_count": 6,
   "id": "2b6c6647-aff6-45d6-be88-38230c910b3e",
   "metadata": {},
   "outputs": [
    {
     "data": {
      "text/plain": [
       "dato                object\n",
       "beskrivelse         object\n",
       "omkostning (kr)    float64\n",
       "medarbejder         object\n",
       "dtype: object"
      ]
     },
     "execution_count": 6,
     "metadata": {},
     "output_type": "execute_result"
    }
   ],
   "source": [
    "df1.dtypes"
   ]
  },
  {
   "cell_type": "markdown",
   "id": "8515adff-64f3-448e-9835-ad4dee8532c9",
   "metadata": {},
   "source": [
    "Objects er \"alt\", så kan udmiddelbart fint holde text, men problematisk for tid. Derfor konverteres de:"
   ]
  },
  {
   "cell_type": "code",
   "execution_count": 7,
   "id": "be4af6e4-350d-4650-8f11-a1842f6272a3",
   "metadata": {},
   "outputs": [],
   "source": [
    "df1['dato'] = pd.to_datetime(df1['dato'])"
   ]
  },
  {
   "cell_type": "code",
   "execution_count": 8,
   "id": "74d06fde-87d4-46f2-ba6d-43023eeca80e",
   "metadata": {},
   "outputs": [
    {
     "data": {
      "text/plain": [
       "dato               datetime64[ns]\n",
       "beskrivelse                object\n",
       "omkostning (kr)           float64\n",
       "medarbejder                object\n",
       "dtype: object"
      ]
     },
     "execution_count": 8,
     "metadata": {},
     "output_type": "execute_result"
    }
   ],
   "source": [
    "df1.dtypes"
   ]
  },
  {
   "cell_type": "markdown",
   "id": "21cb1344-957d-4f03-b271-cc0f95837b48",
   "metadata": {},
   "source": [
    "### Indlæs data2"
   ]
  },
  {
   "cell_type": "code",
   "execution_count": 9,
   "id": "e5f20e05-fc83-4662-b6ff-debf1b6d6d05",
   "metadata": {},
   "outputs": [],
   "source": [
    "df2 = pd.read_csv(data2, index_col='id')\n",
    "df2['dato'] = pd.to_datetime(df2['dato'])"
   ]
  },
  {
   "cell_type": "code",
   "execution_count": 10,
   "id": "3ad5b293-bf9b-4176-95e6-cbd9eadd7e82",
   "metadata": {},
   "outputs": [
    {
     "data": {
      "text/html": [
       "<div>\n",
       "<style scoped>\n",
       "    .dataframe tbody tr th:only-of-type {\n",
       "        vertical-align: middle;\n",
       "    }\n",
       "\n",
       "    .dataframe tbody tr th {\n",
       "        vertical-align: top;\n",
       "    }\n",
       "\n",
       "    .dataframe thead th {\n",
       "        text-align: right;\n",
       "    }\n",
       "</style>\n",
       "<table border=\"1\" class=\"dataframe\">\n",
       "  <thead>\n",
       "    <tr style=\"text-align: right;\">\n",
       "      <th></th>\n",
       "      <th>dato</th>\n",
       "      <th>beskrivelse</th>\n",
       "      <th>medarbejder</th>\n",
       "      <th>omkostning ($)</th>\n",
       "    </tr>\n",
       "    <tr>\n",
       "      <th>id</th>\n",
       "      <th></th>\n",
       "      <th></th>\n",
       "      <th></th>\n",
       "      <th></th>\n",
       "    </tr>\n",
       "  </thead>\n",
       "  <tbody>\n",
       "    <tr>\n",
       "      <th>200</th>\n",
       "      <td>2022-11-24</td>\n",
       "      <td>Print frugt radio.</td>\n",
       "      <td>Univ.Prof. Hjalte Kristensen</td>\n",
       "      <td>14331.22</td>\n",
       "    </tr>\n",
       "    <tr>\n",
       "      <th>201</th>\n",
       "      <td>2022-11-12</td>\n",
       "      <td>Fejre kok hotel levested.</td>\n",
       "      <td>Winnie Jepsen</td>\n",
       "      <td>9066.00</td>\n",
       "    </tr>\n",
       "    <tr>\n",
       "      <th>202</th>\n",
       "      <td>2023-04-12</td>\n",
       "      <td>Kage hvornår gammel prøve.</td>\n",
       "      <td>Winnie Jepsen</td>\n",
       "      <td>1379.11</td>\n",
       "    </tr>\n",
       "    <tr>\n",
       "      <th>203</th>\n",
       "      <td>2022-10-11</td>\n",
       "      <td>Rød husstand ofte.</td>\n",
       "      <td>Bo Laursen</td>\n",
       "      <td>13545.35</td>\n",
       "    </tr>\n",
       "    <tr>\n",
       "      <th>204</th>\n",
       "      <td>2023-07-30</td>\n",
       "      <td>Hit industri direkte beløb.</td>\n",
       "      <td>Winnie Jepsen</td>\n",
       "      <td>8585.69</td>\n",
       "    </tr>\n",
       "  </tbody>\n",
       "</table>\n",
       "</div>"
      ],
      "text/plain": [
       "          dato                  beskrivelse                   medarbejder  \\\n",
       "id                                                                          \n",
       "200 2022-11-24           Print frugt radio.  Univ.Prof. Hjalte Kristensen   \n",
       "201 2022-11-12    Fejre kok hotel levested.                 Winnie Jepsen   \n",
       "202 2023-04-12   Kage hvornår gammel prøve.                 Winnie Jepsen   \n",
       "203 2022-10-11           Rød husstand ofte.                    Bo Laursen   \n",
       "204 2023-07-30  Hit industri direkte beløb.                 Winnie Jepsen   \n",
       "\n",
       "     omkostning ($)  \n",
       "id                   \n",
       "200        14331.22  \n",
       "201         9066.00  \n",
       "202         1379.11  \n",
       "203        13545.35  \n",
       "204         8585.69  "
      ]
     },
     "execution_count": 10,
     "metadata": {},
     "output_type": "execute_result"
    }
   ],
   "source": [
    "df2.head()"
   ]
  },
  {
   "cell_type": "code",
   "execution_count": 11,
   "id": "85843e53-9689-4b84-85a0-91f1532f092c",
   "metadata": {},
   "outputs": [
    {
     "data": {
      "text/plain": [
       "dato              datetime64[ns]\n",
       "beskrivelse               object\n",
       "medarbejder               object\n",
       "omkostning ($)           float64\n",
       "dtype: object"
      ]
     },
     "execution_count": 11,
     "metadata": {},
     "output_type": "execute_result"
    }
   ],
   "source": [
    "df2.dtypes"
   ]
  },
  {
   "cell_type": "markdown",
   "id": "b342e250-ed2e-4b70-89b3-7d49557d8b2b",
   "metadata": {},
   "source": [
    "## To datasæt skal smeltes sammen til eet."
   ]
  },
  {
   "cell_type": "markdown",
   "id": "85956fa4-61b9-49dc-8918-0c7d9effa83e",
   "metadata": {},
   "source": [
    "df1 og df2 skal ensrettes, men hvordan?"
   ]
  },
  {
   "cell_type": "markdown",
   "id": "a7bb2368-0b27-4344-ac66-e135d8142c0f",
   "metadata": {},
   "source": [
    "### Samling af 2 dataframes"
   ]
  },
  {
   "cell_type": "markdown",
   "id": "8af58127-d7fd-4f2f-be17-c8239cb42db7",
   "metadata": {},
   "source": [
    "Dagens valutakurs:"
   ]
  },
  {
   "cell_type": "code",
   "execution_count": 12,
   "id": "5a52a4e7-03b8-47a8-ae4b-66a442de28b1",
   "metadata": {},
   "outputs": [],
   "source": [
    "dagens_kurs_dk_us = 6.5"
   ]
  },
  {
   "cell_type": "code",
   "execution_count": 13,
   "id": "36111206-ef24-409e-ba41-f91393851f92",
   "metadata": {},
   "outputs": [
    {
     "data": {
      "text/plain": [
       "id\n",
       "200    93152.930\n",
       "201    58929.000\n",
       "202     8964.215\n",
       "203    88044.775\n",
       "204    55806.985\n",
       "205    80383.030\n",
       "206    88714.730\n",
       "207     3911.830\n",
       "208    13026.325\n",
       "209    86816.925\n",
       "210    46988.890\n",
       "211    33209.540\n",
       "212     2987.660\n",
       "213    72374.445\n",
       "214    87210.890\n",
       "215    91100.490\n",
       "216    79725.945\n",
       "217    82601.155\n",
       "218     3875.820\n",
       "219    32590.025\n",
       "Name: omkostning ($), dtype: float64"
      ]
     },
     "execution_count": 13,
     "metadata": {},
     "output_type": "execute_result"
    }
   ],
   "source": [
    "df2['omkostning ($)'] * dagens_kurs_dk_us"
   ]
  },
  {
   "cell_type": "markdown",
   "id": "63c0f8f3-46ad-4779-b04a-7137a97f1962",
   "metadata": {},
   "source": [
    "**Huske at gemme beregningen i Dataframen:**"
   ]
  },
  {
   "cell_type": "code",
   "execution_count": 14,
   "id": "b65e2f53-2a9a-4b12-8f03-eca899e87272",
   "metadata": {},
   "outputs": [
    {
     "data": {
      "text/html": [
       "<div>\n",
       "<style scoped>\n",
       "    .dataframe tbody tr th:only-of-type {\n",
       "        vertical-align: middle;\n",
       "    }\n",
       "\n",
       "    .dataframe tbody tr th {\n",
       "        vertical-align: top;\n",
       "    }\n",
       "\n",
       "    .dataframe thead th {\n",
       "        text-align: right;\n",
       "    }\n",
       "</style>\n",
       "<table border=\"1\" class=\"dataframe\">\n",
       "  <thead>\n",
       "    <tr style=\"text-align: right;\">\n",
       "      <th></th>\n",
       "      <th>dato</th>\n",
       "      <th>beskrivelse</th>\n",
       "      <th>medarbejder</th>\n",
       "      <th>omkostning ($)</th>\n",
       "    </tr>\n",
       "    <tr>\n",
       "      <th>id</th>\n",
       "      <th></th>\n",
       "      <th></th>\n",
       "      <th></th>\n",
       "      <th></th>\n",
       "    </tr>\n",
       "  </thead>\n",
       "  <tbody>\n",
       "    <tr>\n",
       "      <th>200</th>\n",
       "      <td>2022-11-24</td>\n",
       "      <td>Print frugt radio.</td>\n",
       "      <td>Univ.Prof. Hjalte Kristensen</td>\n",
       "      <td>14331.22</td>\n",
       "    </tr>\n",
       "    <tr>\n",
       "      <th>201</th>\n",
       "      <td>2022-11-12</td>\n",
       "      <td>Fejre kok hotel levested.</td>\n",
       "      <td>Winnie Jepsen</td>\n",
       "      <td>9066.00</td>\n",
       "    </tr>\n",
       "    <tr>\n",
       "      <th>202</th>\n",
       "      <td>2023-04-12</td>\n",
       "      <td>Kage hvornår gammel prøve.</td>\n",
       "      <td>Winnie Jepsen</td>\n",
       "      <td>1379.11</td>\n",
       "    </tr>\n",
       "    <tr>\n",
       "      <th>203</th>\n",
       "      <td>2022-10-11</td>\n",
       "      <td>Rød husstand ofte.</td>\n",
       "      <td>Bo Laursen</td>\n",
       "      <td>13545.35</td>\n",
       "    </tr>\n",
       "    <tr>\n",
       "      <th>204</th>\n",
       "      <td>2023-07-30</td>\n",
       "      <td>Hit industri direkte beløb.</td>\n",
       "      <td>Winnie Jepsen</td>\n",
       "      <td>8585.69</td>\n",
       "    </tr>\n",
       "  </tbody>\n",
       "</table>\n",
       "</div>"
      ],
      "text/plain": [
       "          dato                  beskrivelse                   medarbejder  \\\n",
       "id                                                                          \n",
       "200 2022-11-24           Print frugt radio.  Univ.Prof. Hjalte Kristensen   \n",
       "201 2022-11-12    Fejre kok hotel levested.                 Winnie Jepsen   \n",
       "202 2023-04-12   Kage hvornår gammel prøve.                 Winnie Jepsen   \n",
       "203 2022-10-11           Rød husstand ofte.                    Bo Laursen   \n",
       "204 2023-07-30  Hit industri direkte beløb.                 Winnie Jepsen   \n",
       "\n",
       "     omkostning ($)  \n",
       "id                   \n",
       "200        14331.22  \n",
       "201         9066.00  \n",
       "202         1379.11  \n",
       "203        13545.35  \n",
       "204         8585.69  "
      ]
     },
     "execution_count": 14,
     "metadata": {},
     "output_type": "execute_result"
    }
   ],
   "source": [
    "df2.head()"
   ]
  },
  {
   "cell_type": "code",
   "execution_count": 15,
   "id": "7190bc9b-1799-4a92-a84b-ed40a05466ef",
   "metadata": {},
   "outputs": [],
   "source": [
    "df2['omkostning (kr)'] = df2['omkostning ($)'] * dagens_kurs_dk_us"
   ]
  },
  {
   "cell_type": "code",
   "execution_count": 16,
   "id": "e42be244-0137-45c5-aa36-b58e001455ce",
   "metadata": {},
   "outputs": [
    {
     "data": {
      "text/html": [
       "<div>\n",
       "<style scoped>\n",
       "    .dataframe tbody tr th:only-of-type {\n",
       "        vertical-align: middle;\n",
       "    }\n",
       "\n",
       "    .dataframe tbody tr th {\n",
       "        vertical-align: top;\n",
       "    }\n",
       "\n",
       "    .dataframe thead th {\n",
       "        text-align: right;\n",
       "    }\n",
       "</style>\n",
       "<table border=\"1\" class=\"dataframe\">\n",
       "  <thead>\n",
       "    <tr style=\"text-align: right;\">\n",
       "      <th></th>\n",
       "      <th>dato</th>\n",
       "      <th>beskrivelse</th>\n",
       "      <th>medarbejder</th>\n",
       "      <th>omkostning ($)</th>\n",
       "      <th>omkostning (kr)</th>\n",
       "    </tr>\n",
       "    <tr>\n",
       "      <th>id</th>\n",
       "      <th></th>\n",
       "      <th></th>\n",
       "      <th></th>\n",
       "      <th></th>\n",
       "      <th></th>\n",
       "    </tr>\n",
       "  </thead>\n",
       "  <tbody>\n",
       "    <tr>\n",
       "      <th>200</th>\n",
       "      <td>2022-11-24</td>\n",
       "      <td>Print frugt radio.</td>\n",
       "      <td>Univ.Prof. Hjalte Kristensen</td>\n",
       "      <td>14331.22</td>\n",
       "      <td>93152.930</td>\n",
       "    </tr>\n",
       "    <tr>\n",
       "      <th>201</th>\n",
       "      <td>2022-11-12</td>\n",
       "      <td>Fejre kok hotel levested.</td>\n",
       "      <td>Winnie Jepsen</td>\n",
       "      <td>9066.00</td>\n",
       "      <td>58929.000</td>\n",
       "    </tr>\n",
       "    <tr>\n",
       "      <th>202</th>\n",
       "      <td>2023-04-12</td>\n",
       "      <td>Kage hvornår gammel prøve.</td>\n",
       "      <td>Winnie Jepsen</td>\n",
       "      <td>1379.11</td>\n",
       "      <td>8964.215</td>\n",
       "    </tr>\n",
       "    <tr>\n",
       "      <th>203</th>\n",
       "      <td>2022-10-11</td>\n",
       "      <td>Rød husstand ofte.</td>\n",
       "      <td>Bo Laursen</td>\n",
       "      <td>13545.35</td>\n",
       "      <td>88044.775</td>\n",
       "    </tr>\n",
       "    <tr>\n",
       "      <th>204</th>\n",
       "      <td>2023-07-30</td>\n",
       "      <td>Hit industri direkte beløb.</td>\n",
       "      <td>Winnie Jepsen</td>\n",
       "      <td>8585.69</td>\n",
       "      <td>55806.985</td>\n",
       "    </tr>\n",
       "  </tbody>\n",
       "</table>\n",
       "</div>"
      ],
      "text/plain": [
       "          dato                  beskrivelse                   medarbejder  \\\n",
       "id                                                                          \n",
       "200 2022-11-24           Print frugt radio.  Univ.Prof. Hjalte Kristensen   \n",
       "201 2022-11-12    Fejre kok hotel levested.                 Winnie Jepsen   \n",
       "202 2023-04-12   Kage hvornår gammel prøve.                 Winnie Jepsen   \n",
       "203 2022-10-11           Rød husstand ofte.                    Bo Laursen   \n",
       "204 2023-07-30  Hit industri direkte beløb.                 Winnie Jepsen   \n",
       "\n",
       "     omkostning ($)  omkostning (kr)  \n",
       "id                                    \n",
       "200        14331.22        93152.930  \n",
       "201         9066.00        58929.000  \n",
       "202         1379.11         8964.215  \n",
       "203        13545.35        88044.775  \n",
       "204         8585.69        55806.985  "
      ]
     },
     "execution_count": 16,
     "metadata": {},
     "output_type": "execute_result"
    }
   ],
   "source": [
    "df2.head()"
   ]
  },
  {
   "cell_type": "code",
   "execution_count": 17,
   "id": "7ae1ce1d-6a45-4006-b74d-d92bcdd3b70f",
   "metadata": {},
   "outputs": [],
   "source": [
    "df2 = df2.drop('omkostning ($)', axis=1)"
   ]
  },
  {
   "cell_type": "code",
   "execution_count": 18,
   "id": "afe1f0ec-2689-4961-a676-6aa30ac5277b",
   "metadata": {},
   "outputs": [
    {
     "data": {
      "text/html": [
       "<div>\n",
       "<style scoped>\n",
       "    .dataframe tbody tr th:only-of-type {\n",
       "        vertical-align: middle;\n",
       "    }\n",
       "\n",
       "    .dataframe tbody tr th {\n",
       "        vertical-align: top;\n",
       "    }\n",
       "\n",
       "    .dataframe thead th {\n",
       "        text-align: right;\n",
       "    }\n",
       "</style>\n",
       "<table border=\"1\" class=\"dataframe\">\n",
       "  <thead>\n",
       "    <tr style=\"text-align: right;\">\n",
       "      <th></th>\n",
       "      <th>dato</th>\n",
       "      <th>beskrivelse</th>\n",
       "      <th>medarbejder</th>\n",
       "      <th>omkostning (kr)</th>\n",
       "    </tr>\n",
       "    <tr>\n",
       "      <th>id</th>\n",
       "      <th></th>\n",
       "      <th></th>\n",
       "      <th></th>\n",
       "      <th></th>\n",
       "    </tr>\n",
       "  </thead>\n",
       "  <tbody>\n",
       "    <tr>\n",
       "      <th>200</th>\n",
       "      <td>2022-11-24</td>\n",
       "      <td>Print frugt radio.</td>\n",
       "      <td>Univ.Prof. Hjalte Kristensen</td>\n",
       "      <td>93152.930</td>\n",
       "    </tr>\n",
       "    <tr>\n",
       "      <th>201</th>\n",
       "      <td>2022-11-12</td>\n",
       "      <td>Fejre kok hotel levested.</td>\n",
       "      <td>Winnie Jepsen</td>\n",
       "      <td>58929.000</td>\n",
       "    </tr>\n",
       "    <tr>\n",
       "      <th>202</th>\n",
       "      <td>2023-04-12</td>\n",
       "      <td>Kage hvornår gammel prøve.</td>\n",
       "      <td>Winnie Jepsen</td>\n",
       "      <td>8964.215</td>\n",
       "    </tr>\n",
       "    <tr>\n",
       "      <th>203</th>\n",
       "      <td>2022-10-11</td>\n",
       "      <td>Rød husstand ofte.</td>\n",
       "      <td>Bo Laursen</td>\n",
       "      <td>88044.775</td>\n",
       "    </tr>\n",
       "    <tr>\n",
       "      <th>204</th>\n",
       "      <td>2023-07-30</td>\n",
       "      <td>Hit industri direkte beløb.</td>\n",
       "      <td>Winnie Jepsen</td>\n",
       "      <td>55806.985</td>\n",
       "    </tr>\n",
       "  </tbody>\n",
       "</table>\n",
       "</div>"
      ],
      "text/plain": [
       "          dato                  beskrivelse                   medarbejder  \\\n",
       "id                                                                          \n",
       "200 2022-11-24           Print frugt radio.  Univ.Prof. Hjalte Kristensen   \n",
       "201 2022-11-12    Fejre kok hotel levested.                 Winnie Jepsen   \n",
       "202 2023-04-12   Kage hvornår gammel prøve.                 Winnie Jepsen   \n",
       "203 2022-10-11           Rød husstand ofte.                    Bo Laursen   \n",
       "204 2023-07-30  Hit industri direkte beløb.                 Winnie Jepsen   \n",
       "\n",
       "     omkostning (kr)  \n",
       "id                    \n",
       "200        93152.930  \n",
       "201        58929.000  \n",
       "202         8964.215  \n",
       "203        88044.775  \n",
       "204        55806.985  "
      ]
     },
     "execution_count": 18,
     "metadata": {},
     "output_type": "execute_result"
    }
   ],
   "source": [
    "df2.head()"
   ]
  },
  {
   "cell_type": "markdown",
   "id": "4b914123-f94f-41c7-b3a7-300d532e35ef",
   "metadata": {},
   "source": [
    "### Samling af dataframes"
   ]
  },
  {
   "cell_type": "markdown",
   "id": "e3680a3a-8224-44a3-b00f-9ae80dbb6592",
   "metadata": {},
   "source": [
    "Merging (Samling) af dataframes, sker ved at oprette en ny ved hjælp af metoden pd.concat()"
   ]
  },
  {
   "cell_type": "code",
   "execution_count": 19,
   "id": "a8485c5a-2bfe-4cab-aa2e-fb9fe492c12b",
   "metadata": {},
   "outputs": [],
   "source": [
    "df = pd.concat([df1,df2])"
   ]
  },
  {
   "cell_type": "code",
   "execution_count": 20,
   "id": "24ac23bc-8f83-4cb0-9371-08f00be9fb11",
   "metadata": {},
   "outputs": [
    {
     "name": "stdout",
     "output_type": "stream",
     "text": [
      "<class 'pandas.core.frame.DataFrame'>\n",
      "Index: 40 entries, 100 to 219\n",
      "Data columns (total 4 columns):\n",
      " #   Column           Non-Null Count  Dtype         \n",
      "---  ------           --------------  -----         \n",
      " 0   dato             40 non-null     datetime64[ns]\n",
      " 1   beskrivelse      40 non-null     object        \n",
      " 2   omkostning (kr)  40 non-null     float64       \n",
      " 3   medarbejder      40 non-null     object        \n",
      "dtypes: datetime64[ns](1), float64(1), object(2)\n",
      "memory usage: 1.6+ KB\n"
     ]
    }
   ],
   "source": [
    "df.info()"
   ]
  },
  {
   "cell_type": "markdown",
   "id": "6496b346-6382-4c99-9199-1070860c6057",
   "metadata": {},
   "source": [
    "### Udvælge enkelte kolloner"
   ]
  },
  {
   "cell_type": "markdown",
   "id": "c664d965-22d3-47b5-92c2-0a2d0396e6bb",
   "metadata": {},
   "source": [
    "Hvordan kan jeg nøjes med at få enkelte kolloner ud, f.eks. kun Navn og Omkostning (kr)"
   ]
  },
  {
   "cell_type": "code",
   "execution_count": 21,
   "id": "bbe0d73b-41fc-47c2-9bd0-bd7059b6fc78",
   "metadata": {},
   "outputs": [
    {
     "data": {
      "text/html": [
       "<div>\n",
       "<style scoped>\n",
       "    .dataframe tbody tr th:only-of-type {\n",
       "        vertical-align: middle;\n",
       "    }\n",
       "\n",
       "    .dataframe tbody tr th {\n",
       "        vertical-align: top;\n",
       "    }\n",
       "\n",
       "    .dataframe thead th {\n",
       "        text-align: right;\n",
       "    }\n",
       "</style>\n",
       "<table border=\"1\" class=\"dataframe\">\n",
       "  <thead>\n",
       "    <tr style=\"text-align: right;\">\n",
       "      <th></th>\n",
       "      <th>medarbejder</th>\n",
       "      <th>omkostning (kr)</th>\n",
       "    </tr>\n",
       "    <tr>\n",
       "      <th>id</th>\n",
       "      <th></th>\n",
       "      <th></th>\n",
       "    </tr>\n",
       "  </thead>\n",
       "  <tbody>\n",
       "    <tr>\n",
       "      <th>100</th>\n",
       "      <td>Bo Laursen</td>\n",
       "      <td>25055.65</td>\n",
       "    </tr>\n",
       "    <tr>\n",
       "      <th>101</th>\n",
       "      <td>Univ.Prof. Hjalte Kristensen</td>\n",
       "      <td>80706.36</td>\n",
       "    </tr>\n",
       "    <tr>\n",
       "      <th>102</th>\n",
       "      <td>Hr Bjarne Thomsen</td>\n",
       "      <td>60634.79</td>\n",
       "    </tr>\n",
       "    <tr>\n",
       "      <th>103</th>\n",
       "      <td>Winnie Jepsen</td>\n",
       "      <td>30714.93</td>\n",
       "    </tr>\n",
       "    <tr>\n",
       "      <th>104</th>\n",
       "      <td>Winnie Jepsen</td>\n",
       "      <td>24081.46</td>\n",
       "    </tr>\n",
       "  </tbody>\n",
       "</table>\n",
       "</div>"
      ],
      "text/plain": [
       "                      medarbejder  omkostning (kr)\n",
       "id                                                \n",
       "100                    Bo Laursen         25055.65\n",
       "101  Univ.Prof. Hjalte Kristensen         80706.36\n",
       "102             Hr Bjarne Thomsen         60634.79\n",
       "103                 Winnie Jepsen         30714.93\n",
       "104                 Winnie Jepsen         24081.46"
      ]
     },
     "execution_count": 21,
     "metadata": {},
     "output_type": "execute_result"
    }
   ],
   "source": [
    "df[['medarbejder', 'omkostning (kr)']].head()"
   ]
  },
  {
   "cell_type": "markdown",
   "id": "069612e5-d8bf-418a-a003-94648405952a",
   "metadata": {},
   "source": [
    "### Hvem har solgt for mest?"
   ]
  },
  {
   "cell_type": "code",
   "execution_count": 22,
   "id": "19d3aa8a-30af-4b3d-88c9-bd0f52215f63",
   "metadata": {},
   "outputs": [
    {
     "data": {
      "text/plain": [
       "medarbejder        Winnie Jepsen\n",
       "omkostning (kr)         93152.93\n",
       "dtype: object"
      ]
     },
     "execution_count": 22,
     "metadata": {},
     "output_type": "execute_result"
    }
   ],
   "source": [
    "df[['medarbejder', 'omkostning (kr)']].max()"
   ]
  },
  {
   "cell_type": "raw",
   "id": "d9259e30-977d-4bcc-970b-473396375d97",
   "metadata": {},
   "source": [
    "Men er dette et korrekt svar? Vi laver en forespørgsel på "
   ]
  },
  {
   "cell_type": "code",
   "execution_count": 23,
   "id": "163ab0a0-e748-4a01-9ac6-eed2183597e9",
   "metadata": {},
   "outputs": [
    {
     "data": {
      "text/html": [
       "<div>\n",
       "<style scoped>\n",
       "    .dataframe tbody tr th:only-of-type {\n",
       "        vertical-align: middle;\n",
       "    }\n",
       "\n",
       "    .dataframe tbody tr th {\n",
       "        vertical-align: top;\n",
       "    }\n",
       "\n",
       "    .dataframe thead th {\n",
       "        text-align: right;\n",
       "    }\n",
       "</style>\n",
       "<table border=\"1\" class=\"dataframe\">\n",
       "  <thead>\n",
       "    <tr style=\"text-align: right;\">\n",
       "      <th></th>\n",
       "      <th>dato</th>\n",
       "      <th>beskrivelse</th>\n",
       "      <th>omkostning (kr)</th>\n",
       "      <th>medarbejder</th>\n",
       "    </tr>\n",
       "    <tr>\n",
       "      <th>id</th>\n",
       "      <th></th>\n",
       "      <th></th>\n",
       "      <th></th>\n",
       "      <th></th>\n",
       "    </tr>\n",
       "  </thead>\n",
       "  <tbody>\n",
       "    <tr>\n",
       "      <th>200</th>\n",
       "      <td>2022-11-24</td>\n",
       "      <td>Print frugt radio.</td>\n",
       "      <td>93152.93</td>\n",
       "      <td>Univ.Prof. Hjalte Kristensen</td>\n",
       "    </tr>\n",
       "  </tbody>\n",
       "</table>\n",
       "</div>"
      ],
      "text/plain": [
       "          dato         beskrivelse  omkostning (kr)  \\\n",
       "id                                                    \n",
       "200 2022-11-24  Print frugt radio.         93152.93   \n",
       "\n",
       "                      medarbejder  \n",
       "id                                 \n",
       "200  Univ.Prof. Hjalte Kristensen  "
      ]
     },
     "execution_count": 23,
     "metadata": {},
     "output_type": "execute_result"
    }
   ],
   "source": [
    "df.loc[df['omkostning (kr)'] == 93152.93]"
   ]
  },
  {
   "cell_type": "markdown",
   "id": "b3936b7a-71ce-462f-9341-0c1661bca358",
   "metadata": {},
   "source": [
    "Det var jo ikke den korrekte medarbejder!"
   ]
  },
  {
   "cell_type": "raw",
   "id": "c8eb8535-34f9-45c7-becb-ca73da61204a",
   "metadata": {},
   "source": [
    "Vi sorterer vores dataframe og gemmer i variablen df"
   ]
  },
  {
   "cell_type": "code",
   "execution_count": 24,
   "id": "b70f2c9e-0217-4c5e-8119-4f306a4c3e65",
   "metadata": {},
   "outputs": [],
   "source": [
    "df = df.sort_values(by='omkostning (kr)', ascending=True)"
   ]
  },
  {
   "cell_type": "code",
   "execution_count": 25,
   "id": "8f4a0646-390d-4fc4-9a42-a8725f49f1a2",
   "metadata": {
    "scrolled": true
   },
   "outputs": [
    {
     "data": {
      "text/html": [
       "<div>\n",
       "<style scoped>\n",
       "    .dataframe tbody tr th:only-of-type {\n",
       "        vertical-align: middle;\n",
       "    }\n",
       "\n",
       "    .dataframe tbody tr th {\n",
       "        vertical-align: top;\n",
       "    }\n",
       "\n",
       "    .dataframe thead th {\n",
       "        text-align: right;\n",
       "    }\n",
       "</style>\n",
       "<table border=\"1\" class=\"dataframe\">\n",
       "  <thead>\n",
       "    <tr style=\"text-align: right;\">\n",
       "      <th></th>\n",
       "      <th>dato</th>\n",
       "      <th>beskrivelse</th>\n",
       "      <th>omkostning (kr)</th>\n",
       "      <th>medarbejder</th>\n",
       "    </tr>\n",
       "    <tr>\n",
       "      <th>id</th>\n",
       "      <th></th>\n",
       "      <th></th>\n",
       "      <th></th>\n",
       "      <th></th>\n",
       "    </tr>\n",
       "  </thead>\n",
       "  <tbody>\n",
       "    <tr>\n",
       "      <th>212</th>\n",
       "      <td>2023-04-20</td>\n",
       "      <td>Kant konflikt tag næste.</td>\n",
       "      <td>2987.660</td>\n",
       "      <td>Prof. Ivan Jakobsen</td>\n",
       "    </tr>\n",
       "    <tr>\n",
       "      <th>218</th>\n",
       "      <td>2023-06-16</td>\n",
       "      <td>Til syg lille glemme kaffe.</td>\n",
       "      <td>3875.820</td>\n",
       "      <td>Bo Laursen</td>\n",
       "    </tr>\n",
       "    <tr>\n",
       "      <th>207</th>\n",
       "      <td>2022-11-27</td>\n",
       "      <td>Pund håndværk ly ny urban.</td>\n",
       "      <td>3911.830</td>\n",
       "      <td>Winnie Jepsen</td>\n",
       "    </tr>\n",
       "    <tr>\n",
       "      <th>202</th>\n",
       "      <td>2023-04-12</td>\n",
       "      <td>Kage hvornår gammel prøve.</td>\n",
       "      <td>8964.215</td>\n",
       "      <td>Winnie Jepsen</td>\n",
       "    </tr>\n",
       "    <tr>\n",
       "      <th>208</th>\n",
       "      <td>2023-03-22</td>\n",
       "      <td>Fugl hård fru.</td>\n",
       "      <td>13026.325</td>\n",
       "      <td>Bo Laursen</td>\n",
       "    </tr>\n",
       "  </tbody>\n",
       "</table>\n",
       "</div>"
      ],
      "text/plain": [
       "          dato                  beskrivelse  omkostning (kr)  \\\n",
       "id                                                             \n",
       "212 2023-04-20     Kant konflikt tag næste.         2987.660   \n",
       "218 2023-06-16  Til syg lille glemme kaffe.         3875.820   \n",
       "207 2022-11-27   Pund håndværk ly ny urban.         3911.830   \n",
       "202 2023-04-12   Kage hvornår gammel prøve.         8964.215   \n",
       "208 2023-03-22               Fugl hård fru.        13026.325   \n",
       "\n",
       "             medarbejder  \n",
       "id                        \n",
       "212  Prof. Ivan Jakobsen  \n",
       "218           Bo Laursen  \n",
       "207        Winnie Jepsen  \n",
       "202        Winnie Jepsen  \n",
       "208           Bo Laursen  "
      ]
     },
     "execution_count": 25,
     "metadata": {},
     "output_type": "execute_result"
    }
   ],
   "source": [
    "df.head()"
   ]
  },
  {
   "cell_type": "code",
   "execution_count": 26,
   "id": "8ebe1982-5100-4ad1-b76b-7358f40f2557",
   "metadata": {
    "scrolled": true
   },
   "outputs": [
    {
     "data": {
      "text/html": [
       "<div>\n",
       "<style scoped>\n",
       "    .dataframe tbody tr th:only-of-type {\n",
       "        vertical-align: middle;\n",
       "    }\n",
       "\n",
       "    .dataframe tbody tr th {\n",
       "        vertical-align: top;\n",
       "    }\n",
       "\n",
       "    .dataframe thead th {\n",
       "        text-align: right;\n",
       "    }\n",
       "</style>\n",
       "<table border=\"1\" class=\"dataframe\">\n",
       "  <thead>\n",
       "    <tr style=\"text-align: right;\">\n",
       "      <th></th>\n",
       "      <th>dato</th>\n",
       "      <th>beskrivelse</th>\n",
       "      <th>omkostning (kr)</th>\n",
       "      <th>medarbejder</th>\n",
       "    </tr>\n",
       "    <tr>\n",
       "      <th>id</th>\n",
       "      <th></th>\n",
       "      <th></th>\n",
       "      <th></th>\n",
       "      <th></th>\n",
       "    </tr>\n",
       "  </thead>\n",
       "  <tbody>\n",
       "    <tr>\n",
       "      <th>203</th>\n",
       "      <td>2022-10-11</td>\n",
       "      <td>Rød husstand ofte.</td>\n",
       "      <td>88044.775</td>\n",
       "      <td>Bo Laursen</td>\n",
       "    </tr>\n",
       "    <tr>\n",
       "      <th>206</th>\n",
       "      <td>2022-11-20</td>\n",
       "      <td>Olie flyselskab fænomen.</td>\n",
       "      <td>88714.730</td>\n",
       "      <td>Bo Laursen</td>\n",
       "    </tr>\n",
       "    <tr>\n",
       "      <th>215</th>\n",
       "      <td>2023-03-28</td>\n",
       "      <td>Underskud dybt person de.</td>\n",
       "      <td>91100.490</td>\n",
       "      <td>Hr Bjarne Thomsen</td>\n",
       "    </tr>\n",
       "    <tr>\n",
       "      <th>114</th>\n",
       "      <td>2022-12-06</td>\n",
       "      <td>Matematik krænkelse store.</td>\n",
       "      <td>91758.490</td>\n",
       "      <td>Hr Bjarne Thomsen</td>\n",
       "    </tr>\n",
       "    <tr>\n",
       "      <th>200</th>\n",
       "      <td>2022-11-24</td>\n",
       "      <td>Print frugt radio.</td>\n",
       "      <td>93152.930</td>\n",
       "      <td>Univ.Prof. Hjalte Kristensen</td>\n",
       "    </tr>\n",
       "  </tbody>\n",
       "</table>\n",
       "</div>"
      ],
      "text/plain": [
       "          dato                 beskrivelse  omkostning (kr)  \\\n",
       "id                                                            \n",
       "203 2022-10-11          Rød husstand ofte.        88044.775   \n",
       "206 2022-11-20    Olie flyselskab fænomen.        88714.730   \n",
       "215 2023-03-28   Underskud dybt person de.        91100.490   \n",
       "114 2022-12-06  Matematik krænkelse store.        91758.490   \n",
       "200 2022-11-24          Print frugt radio.        93152.930   \n",
       "\n",
       "                      medarbejder  \n",
       "id                                 \n",
       "203                    Bo Laursen  \n",
       "206                    Bo Laursen  \n",
       "215             Hr Bjarne Thomsen  \n",
       "114             Hr Bjarne Thomsen  \n",
       "200  Univ.Prof. Hjalte Kristensen  "
      ]
     },
     "execution_count": 26,
     "metadata": {},
     "output_type": "execute_result"
    }
   ],
   "source": [
    "df.tail()"
   ]
  },
  {
   "cell_type": "markdown",
   "id": "9b458ef7-11da-4d0c-bdba-971deaee473f",
   "metadata": {},
   "source": [
    "Men vi kan også få resultatet direkte ved at spørge på den enkelte række og i python tæller vi fra 0 til -1 :-)"
   ]
  },
  {
   "cell_type": "code",
   "execution_count": 27,
   "id": "bb86d9db-b5a2-48c2-bb81-c36f87aea2fb",
   "metadata": {},
   "outputs": [
    {
     "data": {
      "text/plain": [
       "dato                        2022-11-24 00:00:00\n",
       "beskrivelse                  Print frugt radio.\n",
       "omkostning (kr)                        93152.93\n",
       "medarbejder        Univ.Prof. Hjalte Kristensen\n",
       "Name: 200, dtype: object"
      ]
     },
     "execution_count": 27,
     "metadata": {},
     "output_type": "execute_result"
    }
   ],
   "source": [
    "df.iloc[-1]"
   ]
  },
  {
   "cell_type": "markdown",
   "id": "00fa9096-e8a2-4bb1-87b7-b68dae4f7ff0",
   "metadata": {
    "jp-MarkdownHeadingCollapsed": true
   },
   "source": [
    "# Del 2"
   ]
  },
  {
   "cell_type": "markdown",
   "id": "291ba1d0-7f7d-4e79-9ed2-e135bda23469",
   "metadata": {},
   "source": [
    "Der er nu kommet endnu et datasæt. Nu skal der konverteres til $ i stedet for kr. og der skal findes medarbejderen med mindste salg."
   ]
  },
  {
   "cell_type": "code",
   "execution_count": 28,
   "id": "7689981f-5c98-44b0-a44d-cb4ac67f3f30",
   "metadata": {},
   "outputs": [],
   "source": [
    "df3 = pd.read_csv(data3, index_col='id')\n",
    "df3['dato'] = pd.to_datetime(df3['dato'])"
   ]
  },
  {
   "cell_type": "code",
   "execution_count": 29,
   "id": "64191b6e-e07e-4097-9761-43800348da61",
   "metadata": {},
   "outputs": [
    {
     "data": {
      "text/html": [
       "<div>\n",
       "<style scoped>\n",
       "    .dataframe tbody tr th:only-of-type {\n",
       "        vertical-align: middle;\n",
       "    }\n",
       "\n",
       "    .dataframe tbody tr th {\n",
       "        vertical-align: top;\n",
       "    }\n",
       "\n",
       "    .dataframe thead th {\n",
       "        text-align: right;\n",
       "    }\n",
       "</style>\n",
       "<table border=\"1\" class=\"dataframe\">\n",
       "  <thead>\n",
       "    <tr style=\"text-align: right;\">\n",
       "      <th></th>\n",
       "      <th>dato</th>\n",
       "      <th>beskrivelse</th>\n",
       "      <th>medarbejder</th>\n",
       "      <th>omkostning ($)</th>\n",
       "    </tr>\n",
       "    <tr>\n",
       "      <th>id</th>\n",
       "      <th></th>\n",
       "      <th></th>\n",
       "      <th></th>\n",
       "      <th></th>\n",
       "    </tr>\n",
       "  </thead>\n",
       "  <tbody>\n",
       "    <tr>\n",
       "      <th>300</th>\n",
       "      <td>2022-12-24</td>\n",
       "      <td>Foreslå fase telefon ja.</td>\n",
       "      <td>Hr David Jensen</td>\n",
       "      <td>7698.44</td>\n",
       "    </tr>\n",
       "    <tr>\n",
       "      <th>301</th>\n",
       "      <td>2023-04-19</td>\n",
       "      <td>Sædvanlig hun hals nat.</td>\n",
       "      <td>Karlo Kristiansen</td>\n",
       "      <td>7094.34</td>\n",
       "    </tr>\n",
       "  </tbody>\n",
       "</table>\n",
       "</div>"
      ],
      "text/plain": [
       "          dato               beskrivelse        medarbejder  omkostning ($)\n",
       "id                                                                         \n",
       "300 2022-12-24  Foreslå fase telefon ja.    Hr David Jensen         7698.44\n",
       "301 2023-04-19   Sædvanlig hun hals nat.  Karlo Kristiansen         7094.34"
      ]
     },
     "execution_count": 29,
     "metadata": {},
     "output_type": "execute_result"
    }
   ],
   "source": [
    "df3.head()"
   ]
  },
  {
   "cell_type": "markdown",
   "id": "f7653ec0-308a-427e-b143-740f1a593849",
   "metadata": {},
   "source": [
    "Opgave: Samle df3 med df1 og df2, hvor der arbejdes i USD istedet for kr."
   ]
  },
  {
   "cell_type": "code",
   "execution_count": null,
   "id": "7377fac9-c6a6-4120-90c2-15799ef2eb42",
   "metadata": {},
   "outputs": [],
   "source": []
  },
  {
   "cell_type": "code",
   "execution_count": null,
   "id": "d7712591-a3ad-437f-8cd1-0ac1c62ec6a6",
   "metadata": {},
   "outputs": [],
   "source": []
  },
  {
   "cell_type": "code",
   "execution_count": null,
   "id": "2fd8b0ab-9750-4ff5-a929-f4500351adc8",
   "metadata": {},
   "outputs": [],
   "source": []
  },
  {
   "cell_type": "code",
   "execution_count": null,
   "id": "737d1878-fd6a-4e56-976c-af4ea1d84970",
   "metadata": {},
   "outputs": [],
   "source": []
  },
  {
   "cell_type": "code",
   "execution_count": null,
   "id": "432ee557-1486-4113-9bdc-fd3a31e73d70",
   "metadata": {},
   "outputs": [],
   "source": []
  },
  {
   "cell_type": "markdown",
   "id": "e68b109a-ed09-48d5-b0c2-df2a525ecc9c",
   "metadata": {
    "jp-MarkdownHeadingCollapsed": true
   },
   "source": [
    "# Del 3\n"
   ]
  },
  {
   "cell_type": "markdown",
   "id": "7d906f53-93f1-4c80-a367-7c34fdeaeda0",
   "metadata": {},
   "source": [
    "## Visualisering af vores datasæt df"
   ]
  },
  {
   "cell_type": "markdown",
   "id": "ffcf512f-51f7-42d0-8f84-b7f015239bc7",
   "metadata": {},
   "source": [
    "[DOCUMENTATION](https://pandas.pydata.org/pandas-docs/stable/reference/api/pandas.DataFrame.plot.html) her et eksempel på et scatterplot på dato og omkostningen i (kr)"
   ]
  },
  {
   "cell_type": "code",
   "execution_count": 30,
   "id": "0ddfc8cb-3d39-433a-b751-5d6d7f2ea44e",
   "metadata": {},
   "outputs": [],
   "source": [
    "import matplotlib.pyplot as plt"
   ]
  },
  {
   "cell_type": "code",
   "execution_count": 31,
   "id": "143e2d3e-1fc0-4a98-af08-f902afea48c7",
   "metadata": {},
   "outputs": [
    {
     "data": {
      "text/plain": [
       "<Axes: xlabel='dato', ylabel='omkostning (kr)'>"
      ]
     },
     "execution_count": 31,
     "metadata": {},
     "output_type": "execute_result"
    },
    {
     "data": {
      "image/png": "[encoded data removed]",
      "text/plain": [
       "<Figure size 640x480 with 1 Axes>"
      ]
     },
     "metadata": {},
     "output_type": "display_data"
    }
   ],
   "source": [
    "df.plot(x='dato', y='omkostning (kr)', kind='scatter')"
   ]
  },
  {
   "cell_type": "markdown",
   "id": "5a319841-e8ba-453d-aebc-e382e48e825a",
   "metadata": {},
   "source": [
    "## Virksomheden er opkøbt, vi skal have lavet en sundhedsprofil"
   ]
  },
  {
   "cell_type": "markdown",
   "id": "5475b4c5-a39a-43f6-8d27-2bd413db982e",
   "metadata": {},
   "source": [
    "Indlæs datasæt4"
   ]
  },
  {
   "cell_type": "code",
   "execution_count": 32,
   "id": "7f03f04a-4d1e-465f-8e56-bd6132f55aff",
   "metadata": {},
   "outputs": [],
   "source": [
    "data4 = 'fake_people.csv'"
   ]
  },
  {
   "cell_type": "code",
   "execution_count": 33,
   "id": "9b285d31-53b4-422b-93cd-f7b67b246c71",
   "metadata": {},
   "outputs": [],
   "source": [
    "df4 = pd.read_csv(data4, index_col='id')"
   ]
  },
  {
   "cell_type": "code",
   "execution_count": null,
   "id": "c931bc88-07cd-436d-905f-1470edcaa24d",
   "metadata": {},
   "outputs": [],
   "source": []
  },
  {
   "cell_type": "code",
   "execution_count": 34,
   "id": "a7288a69-79aa-4776-9111-5fafccf2a55c",
   "metadata": {},
   "outputs": [
    {
     "data": {
      "text/plain": [
       "<Axes: xlabel='medarbejder'>"
      ]
     },
     "execution_count": 34,
     "metadata": {},
     "output_type": "execute_result"
    },
    {
     "data": {
      "image/png": "[encoded data removed]",
      "text/plain": [
       "<Figure size 640x480 with 1 Axes>"
      ]
     },
     "metadata": {},
     "output_type": "display_data"
    }
   ],
   "source": [
    "df4.plot(x='medarbejder', y='sko',  kind='bar')"
   ]
  },
  {
   "cell_type": "markdown",
   "id": "f7853595-d116-4a75-b58a-bbd85eab7bcb",
   "metadata": {},
   "source": [
    "**Bedre metode:** Find hvem og hvilken værdi der er forkert"
   ]
  },
  {
   "cell_type": "code",
   "execution_count": 35,
   "id": "b2f20e87-721a-462d-8500-8b9afd72bddf",
   "metadata": {},
   "outputs": [
    {
     "data": {
      "text/html": [
       "<div>\n",
       "<style scoped>\n",
       "    .dataframe tbody tr th:only-of-type {\n",
       "        vertical-align: middle;\n",
       "    }\n",
       "\n",
       "    .dataframe tbody tr th {\n",
       "        vertical-align: top;\n",
       "    }\n",
       "\n",
       "    .dataframe thead th {\n",
       "        text-align: right;\n",
       "    }\n",
       "</style>\n",
       "<table border=\"1\" class=\"dataframe\">\n",
       "  <thead>\n",
       "    <tr style=\"text-align: right;\">\n",
       "      <th></th>\n",
       "      <th>hoejde</th>\n",
       "      <th>vaegt</th>\n",
       "      <th>sko</th>\n",
       "    </tr>\n",
       "  </thead>\n",
       "  <tbody>\n",
       "    <tr>\n",
       "      <th>count</th>\n",
       "      <td>20.000000</td>\n",
       "      <td>19.000000</td>\n",
       "      <td>19.000000</td>\n",
       "    </tr>\n",
       "    <tr>\n",
       "      <th>mean</th>\n",
       "      <td>10.257000</td>\n",
       "      <td>86.842105</td>\n",
       "      <td>39.473684</td>\n",
       "    </tr>\n",
       "    <tr>\n",
       "      <th>std</th>\n",
       "      <td>37.835194</td>\n",
       "      <td>19.723824</td>\n",
       "      <td>7.618460</td>\n",
       "    </tr>\n",
       "    <tr>\n",
       "      <th>min</th>\n",
       "      <td>1.600000</td>\n",
       "      <td>50.000000</td>\n",
       "      <td>10.000000</td>\n",
       "    </tr>\n",
       "    <tr>\n",
       "      <th>25%</th>\n",
       "      <td>1.710000</td>\n",
       "      <td>73.500000</td>\n",
       "      <td>38.500000</td>\n",
       "    </tr>\n",
       "    <tr>\n",
       "      <th>50%</th>\n",
       "      <td>1.780000</td>\n",
       "      <td>84.000000</td>\n",
       "      <td>42.000000</td>\n",
       "    </tr>\n",
       "    <tr>\n",
       "      <th>75%</th>\n",
       "      <td>1.950000</td>\n",
       "      <td>100.500000</td>\n",
       "      <td>43.000000</td>\n",
       "    </tr>\n",
       "    <tr>\n",
       "      <th>max</th>\n",
       "      <td>171.000000</td>\n",
       "      <td>118.000000</td>\n",
       "      <td>45.000000</td>\n",
       "    </tr>\n",
       "  </tbody>\n",
       "</table>\n",
       "</div>"
      ],
      "text/plain": [
       "           hoejde       vaegt        sko\n",
       "count   20.000000   19.000000  19.000000\n",
       "mean    10.257000   86.842105  39.473684\n",
       "std     37.835194   19.723824   7.618460\n",
       "min      1.600000   50.000000  10.000000\n",
       "25%      1.710000   73.500000  38.500000\n",
       "50%      1.780000   84.000000  42.000000\n",
       "75%      1.950000  100.500000  43.000000\n",
       "max    171.000000  118.000000  45.000000"
      ]
     },
     "execution_count": 35,
     "metadata": {},
     "output_type": "execute_result"
    }
   ],
   "source": [
    "df4.describe()"
   ]
  },
  {
   "cell_type": "code",
   "execution_count": 36,
   "id": "55d2fefa-d521-4b9d-a8c9-5f56ec179f09",
   "metadata": {},
   "outputs": [
    {
     "data": {
      "text/html": [
       "<div>\n",
       "<style scoped>\n",
       "    .dataframe tbody tr th:only-of-type {\n",
       "        vertical-align: middle;\n",
       "    }\n",
       "\n",
       "    .dataframe tbody tr th {\n",
       "        vertical-align: top;\n",
       "    }\n",
       "\n",
       "    .dataframe thead th {\n",
       "        text-align: right;\n",
       "    }\n",
       "</style>\n",
       "<table border=\"1\" class=\"dataframe\">\n",
       "  <thead>\n",
       "    <tr style=\"text-align: right;\">\n",
       "      <th></th>\n",
       "      <th>medarbejder</th>\n",
       "      <th>hoejde</th>\n",
       "      <th>vaegt</th>\n",
       "      <th>sko</th>\n",
       "    </tr>\n",
       "    <tr>\n",
       "      <th>id</th>\n",
       "      <th></th>\n",
       "      <th></th>\n",
       "      <th></th>\n",
       "      <th></th>\n",
       "    </tr>\n",
       "  </thead>\n",
       "  <tbody>\n",
       "    <tr>\n",
       "      <th>9</th>\n",
       "      <td>Dr. Christina Iversen</td>\n",
       "      <td>1.88</td>\n",
       "      <td>116.0</td>\n",
       "      <td>10.0</td>\n",
       "    </tr>\n",
       "  </tbody>\n",
       "</table>\n",
       "</div>"
      ],
      "text/plain": [
       "              medarbejder  hoejde  vaegt   sko\n",
       "id                                            \n",
       "9   Dr. Christina Iversen    1.88  116.0  10.0"
      ]
     },
     "execution_count": 36,
     "metadata": {},
     "output_type": "execute_result"
    }
   ],
   "source": [
    "df4[df4['sko'] < 30 ]"
   ]
  },
  {
   "cell_type": "code",
   "execution_count": 37,
   "id": "d23870ab-b806-48bc-892e-85578756db82",
   "metadata": {},
   "outputs": [],
   "source": [
    "df4.loc[9, 'sko'] = 41.5"
   ]
  },
  {
   "cell_type": "code",
   "execution_count": 38,
   "id": "04112271-4423-4e10-b7cc-ffa3d7d39ee3",
   "metadata": {},
   "outputs": [
    {
     "data": {
      "text/plain": [
       "<Axes: xlabel='medarbejder'>"
      ]
     },
     "execution_count": 38,
     "metadata": {},
     "output_type": "execute_result"
    },
    {
     "data": {
      "image/png": "[encoded data removed]",
      "text/plain": [
       "<Figure size 640x480 with 1 Axes>"
      ]
     },
     "metadata": {},
     "output_type": "display_data"
    }
   ],
   "source": [
    "df4.plot(x='medarbejder', y='sko')"
   ]
  },
  {
   "cell_type": "code",
   "execution_count": 39,
   "id": "152252be-d216-42fc-88ec-e087698492de",
   "metadata": {},
   "outputs": [],
   "source": [
    "df4 = df4.dropna()"
   ]
  },
  {
   "cell_type": "code",
   "execution_count": 40,
   "id": "fe2d2ae7-b7d3-4468-8a87-bf073476dd18",
   "metadata": {},
   "outputs": [
    {
     "data": {
      "text/plain": [
       "<Axes: xlabel='medarbejder'>"
      ]
     },
     "execution_count": 40,
     "metadata": {},
     "output_type": "execute_result"
    },
    {
     "data": {
      "image/png": "[encoded data removed]",
      "text/plain": [
       "<Figure size 640x480 with 1 Axes>"
      ]
     },
     "metadata": {},
     "output_type": "display_data"
    }
   ],
   "source": [
    "df4.plot(x='medarbejder', y='sko')"
   ]
  },
  {
   "cell_type": "code",
   "execution_count": 41,
   "id": "994123aa-f5b5-480e-8f83-726b4135995b",
   "metadata": {},
   "outputs": [],
   "source": [
    "df4 = df4.dropna(subset=['sko'])"
   ]
  },
  {
   "cell_type": "code",
   "execution_count": 42,
   "id": "be0ebfdc-5b34-4edb-a3f8-488bd4df8d20",
   "metadata": {},
   "outputs": [
    {
     "data": {
      "text/plain": [
       "<Axes: xlabel='medarbejder'>"
      ]
     },
     "execution_count": 42,
     "metadata": {},
     "output_type": "execute_result"
    },
    {
     "data": {
      "image/png": "[encoded data removed]",
      "text/plain": [
       "<Figure size 640x480 with 1 Axes>"
      ]
     },
     "metadata": {},
     "output_type": "display_data"
    }
   ],
   "source": [
    "df4.plot(x='medarbejder', y='sko', kind='bar')"
   ]
  },
  {
   "cell_type": "code",
   "execution_count": 43,
   "id": "0938e3fe-47bb-40a6-9b35-7fad1f85612c",
   "metadata": {},
   "outputs": [],
   "source": [
    "# DER SKAL SLETTES HERUNDER; DETTE ER MIN EGEN LØSNING!"
   ]
  },
  {
   "cell_type": "markdown",
   "id": "c219b206-9aba-4fe1-b3b1-da4685a413e0",
   "metadata": {
    "jp-MarkdownHeadingCollapsed": true
   },
   "source": [
    "### Undersøg datasættet, hvilke variable er der."
   ]
  },
  {
   "cell_type": "code",
   "execution_count": 44,
   "id": "d058424d-5105-4e3c-9526-afff7d3d5962",
   "metadata": {},
   "outputs": [
    {
     "data": {
      "text/html": [
       "<div>\n",
       "<style scoped>\n",
       "    .dataframe tbody tr th:only-of-type {\n",
       "        vertical-align: middle;\n",
       "    }\n",
       "\n",
       "    .dataframe tbody tr th {\n",
       "        vertical-align: top;\n",
       "    }\n",
       "\n",
       "    .dataframe thead th {\n",
       "        text-align: right;\n",
       "    }\n",
       "</style>\n",
       "<table border=\"1\" class=\"dataframe\">\n",
       "  <thead>\n",
       "    <tr style=\"text-align: right;\">\n",
       "      <th></th>\n",
       "      <th>medarbejder</th>\n",
       "      <th>hoejde</th>\n",
       "      <th>vaegt</th>\n",
       "      <th>sko</th>\n",
       "    </tr>\n",
       "    <tr>\n",
       "      <th>id</th>\n",
       "      <th></th>\n",
       "      <th></th>\n",
       "      <th></th>\n",
       "      <th></th>\n",
       "    </tr>\n",
       "  </thead>\n",
       "  <tbody>\n",
       "    <tr>\n",
       "      <th>1</th>\n",
       "      <td>Fru Nina Mikkelsen</td>\n",
       "      <td>1.98</td>\n",
       "      <td>99.0</td>\n",
       "      <td>38.0</td>\n",
       "    </tr>\n",
       "    <tr>\n",
       "      <th>2</th>\n",
       "      <td>Univ.Prof. Christine Madsen</td>\n",
       "      <td>1.72</td>\n",
       "      <td>100.0</td>\n",
       "      <td>42.0</td>\n",
       "    </tr>\n",
       "    <tr>\n",
       "      <th>3</th>\n",
       "      <td>Prof. Mike Mogensen</td>\n",
       "      <td>1.70</td>\n",
       "      <td>69.0</td>\n",
       "      <td>43.0</td>\n",
       "    </tr>\n",
       "    <tr>\n",
       "      <th>4</th>\n",
       "      <td>Ritt Olsen</td>\n",
       "      <td>1.83</td>\n",
       "      <td>59.0</td>\n",
       "      <td>45.0</td>\n",
       "    </tr>\n",
       "    <tr>\n",
       "      <th>5</th>\n",
       "      <td>Prof. Jacob Johnsen</td>\n",
       "      <td>1.62</td>\n",
       "      <td>84.0</td>\n",
       "      <td>41.0</td>\n",
       "    </tr>\n",
       "  </tbody>\n",
       "</table>\n",
       "</div>"
      ],
      "text/plain": [
       "                    medarbejder  hoejde  vaegt   sko\n",
       "id                                                  \n",
       "1            Fru Nina Mikkelsen    1.98   99.0  38.0\n",
       "2   Univ.Prof. Christine Madsen    1.72  100.0  42.0\n",
       "3           Prof. Mike Mogensen    1.70   69.0  43.0\n",
       "4                    Ritt Olsen    1.83   59.0  45.0\n",
       "5           Prof. Jacob Johnsen    1.62   84.0  41.0"
      ]
     },
     "execution_count": 44,
     "metadata": {},
     "output_type": "execute_result"
    }
   ],
   "source": [
    "df4.head()"
   ]
  },
  {
   "cell_type": "markdown",
   "id": "cd45c795-c1cf-444e-94a8-6e87e4b4a88a",
   "metadata": {},
   "source": [
    "Udregn bmi = vægt / højde^2, hvordan ser det ud?"
   ]
  },
  {
   "cell_type": "code",
   "execution_count": null,
   "id": "aa750349-1a4b-4a9a-b320-e200ce3bbac1",
   "metadata": {},
   "outputs": [],
   "source": []
  },
  {
   "cell_type": "code",
   "execution_count": null,
   "id": "74ceec8d-9848-4979-992d-7df21d748c23",
   "metadata": {},
   "outputs": [],
   "source": []
  },
  {
   "cell_type": "code",
   "execution_count": null,
   "id": "e0573196-4aaf-44d9-a036-4a4c015ae949",
   "metadata": {},
   "outputs": [],
   "source": []
  },
  {
   "cell_type": "code",
   "execution_count": null,
   "id": "ab499eb8-4e20-41be-9289-3169c34de145",
   "metadata": {},
   "outputs": [],
   "source": []
  },
  {
   "cell_type": "code",
   "execution_count": null,
   "id": "025ce631-7015-4c89-957f-ee14b2d790c6",
   "metadata": {},
   "outputs": [],
   "source": []
  },
  {
   "cell_type": "code",
   "execution_count": null,
   "id": "171dabe7-d4d7-4d14-bc18-7db5e8d706ff",
   "metadata": {},
   "outputs": [],
   "source": []
  },
  {
   "cell_type": "code",
   "execution_count": null,
   "id": "87f5ecf3-6746-4e64-9d8b-9bd0e661de27",
   "metadata": {},
   "outputs": [],
   "source": []
  },
  {
   "cell_type": "code",
   "execution_count": null,
   "id": "8ebbc307-46ee-4330-8843-509f242036b2",
   "metadata": {},
   "outputs": [],
   "source": []
  },
  {
   "cell_type": "code",
   "execution_count": null,
   "id": "9cae4c49-26d6-40e2-8643-1feef373c927",
   "metadata": {},
   "outputs": [],
   "source": []
  },
  {
   "cell_type": "code",
   "execution_count": null,
   "id": "41a0b2bd-d920-48cd-a5b3-4c33d9ef31db",
   "metadata": {},
   "outputs": [],
   "source": []
  },
  {
   "cell_type": "code",
   "execution_count": null,
   "id": "d231d6e5-a8d1-4c08-ba51-b6c8e9d73817",
   "metadata": {},
   "outputs": [],
   "source": []
  },
  {
   "cell_type": "markdown",
   "id": "968488e0-383c-4064-944e-fd6113268636",
   "metadata": {},
   "source": [
    "# Xtra"
   ]
  },
  {
   "cell_type": "markdown",
   "id": "0a920aac-3e31-4a5b-bd14-e0fcbdaa9a90",
   "metadata": {},
   "source": [
    "Datatyper kan betyde meget, fx. når vi ønsker at bruge datoerne, som angivelse af tid og ikke bare en repræsentation."
   ]
  },
  {
   "cell_type": "code",
   "execution_count": 45,
   "id": "b2015ea5-1180-4b10-ad6b-8401df91cae0",
   "metadata": {},
   "outputs": [
    {
     "data": {
      "text/plain": [
       "dato               datetime64[ns]\n",
       "beskrivelse                object\n",
       "omkostning (kr)           float64\n",
       "medarbejder                object\n",
       "dtype: object"
      ]
     },
     "execution_count": 45,
     "metadata": {},
     "output_type": "execute_result"
    }
   ],
   "source": [
    "df.dtypes"
   ]
  },
  {
   "cell_type": "markdown",
   "id": "f37bafa6-7769-498e-94b4-03832f4a2a3d",
   "metadata": {},
   "source": [
    "Datatyperne er ikke i overensstemmelse med hvad vi kan se. \"Object\" er en type, der kan holde nærmest alt. \n",
    "Så vi ændrer dem til mere korrekte. Dette gør vi i en dictionary, som kaldes et key:value store. \n",
    "For at pandas kan finde ud af konvertere dato kollonen til et datoformat, skal den først laves til en string"
   ]
  },
  {
   "cell_type": "code",
   "execution_count": 47,
   "id": "086cd9e9-7954-4944-93fc-9804a103e282",
   "metadata": {},
   "outputs": [],
   "source": [
    "korrekte_data_typer = {'id': int, 'dato': pd.StringDtype(), 'beskrivelse': pd.StringDtype(), 'omkostning (kr)': float, 'medarbejder':\n",
    "                       pd.StringDtype(), 'hoejde': int}\n",
    "dato_felter = ['dato']"
   ]
  },
  {
   "cell_type": "code",
   "execution_count": 48,
   "id": "c6e46fea-cf04-4ee9-90ec-f2a39c953af2",
   "metadata": {},
   "outputs": [
    {
     "data": {
      "text/plain": [
       "id                          int64\n",
       "dato               datetime64[ns]\n",
       "beskrivelse        string[python]\n",
       "omkostning (kr)           float64\n",
       "medarbejder        string[python]\n",
       "dtype: object"
      ]
     },
     "execution_count": 48,
     "metadata": {},
     "output_type": "execute_result"
    }
   ],
   "source": [
    "df1 = pd.read_csv(data1, dtype=korrekte_data_typer, parse_dates=dato_felter)\n",
    "df1.dtypes"
   ]
  }
 ],
 "metadata": {
  "kernelspec": {
   "display_name": "Python 3 (ipykernel)",
   "language": "python",
   "name": "python3"
  },
  "language_info": {
   "codemirror_mode": {
    "name": "ipython",
    "version": 3
   },
   "file_extension": ".py",
   "mimetype": "text/x-python",
   "name": "python",
   "nbconvert_exporter": "python",
   "pygments_lexer": "ipython3",
   "version": "3.11.5"
  }
 },
 "nbformat": 4,
 "nbformat_minor": 5
}
